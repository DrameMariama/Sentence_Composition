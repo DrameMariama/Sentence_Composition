{
 "cells": [
  {
   "cell_type": "code",
   "execution_count": 88,
   "metadata": {},
   "outputs": [],
   "source": [
    "import pandas as pd\n",
    "import json"
   ]
  },
  {
   "cell_type": "markdown",
   "metadata": {},
   "source": [
    "### Removing empty line from the original WebSPLIT corpus file"
   ]
  },
  {
   "cell_type": "code",
   "execution_count": 2,
   "metadata": {},
   "outputs": [],
   "source": [
    "with open('final-complexsimple-meanpreserve-intreeorder-full.txt', 'r') as infile, open('output.txt', 'w') as outfile:\n",
    "    for line in infile:\n",
    "        if not line.strip(): \n",
    "            continue  # skip the empty line\n",
    "        outfile.write(line)  # non-empty line. Write it to output"
   ]
  },
  {
   "cell_type": "code",
   "execution_count": null,
   "metadata": {},
   "outputs": [],
   "source": [
    "def get_sentence_pairs(filename):\n",
    "    df = pd.DataFrame(columns=['Complex_sentence_index' ,'Simple_sentence_1', 'Simple_sentence_2', 'Complex_sentence']) #will contain our new dataset\n",
    "    with open(filename, 'r') as f:\n",
    "        f = iter(f)  #transform f to an iterable object\n",
    "        i = 1     #to trck the number of complex sentence\n",
    "        line = f.readline()\n",
    "        while line:\n",
    "            s = line.replace('\\n', '')\n",
    "            if s == 'COMPLEX-'+str(i):  # check if the current line is a new complex sentence\n",
    "                #print(s)\n",
    "                next_line = f.readline()\n",
    "                complex_sentence = next_line.replace('\\n', '')\n",
    "                j = 1 #to track the number of the simple sentence\n",
    "                while True:\n",
    "                    #print(next_line)\n",
    "                    if next_line.replace('\\n', '') == 'COMPLEX-'+str(i)+':MR-1:SIMPLE-'+str(j):  #check if the current line is defining simple sentences generated from the current complex sentence\n",
    "                        sentences = []\n",
    "                        next_line1 = f.readline()\n",
    "                        k = 0  \n",
    "\n",
    "                        while not next_line1.startswith('COMPLEX-'+str(i)+':MR-1:SIMPLE-'+str(j)+':SPTYPE-'): \n",
    "                            #print(next_line1.replace('\\n', ''))\n",
    "                            sentences.append(next_line1.replace('\\n', ''))\n",
    "                            k += 1\n",
    "                            next_line1 = f.readline()\n",
    "                        #print(j, k)\n",
    "                        if k == 2:  # to consider  complex sentences that are splitted only into two simple sentences\n",
    "                         #   print(next_line1.replace('\\n', ''))\n",
    "                            df = df.append({'Complex_sentence_index':i, 'Simple_sentence_1': sentences[0], 'Simple_sentence_2': sentences[1], 'Complex_sentence': complex_sentence}, ignore_index=True)\n",
    "                        j += 1\n",
    "                    next_line = f.readline()\n",
    "                    #print(next_line)\n",
    "                    if next_line.replace('\\n', '') == 'COMPLEX-'+str(i+1) or next_line == '\\n' or next_line == '' or next_line == ' ':\n",
    "                        break\n",
    "                line = next_line\n",
    "                i += 1\n",
    "            if line == '' or line == '\\n' or line == ' ':\n",
    "                    break\n",
    "        return df\n",
    "filename = 'output.txt'\n",
    "df = get_sentence_pairs(filename)\n",
    "df.to_csv('two_sentences_composition.csv')"
   ]
  },
  {
   "cell_type": "code",
   "execution_count": 124,
   "metadata": {},
   "outputs": [],
   "source": [
    "def get_all_sentences(filename):\n",
    "    with open(filename, 'r') as f:\n",
    "        f = iter(f)  #transform f to an iterable object\n",
    "        i = 1     #to trck the number of complex sentence\n",
    "        line = f.readline()\n",
    "        json_list = []\n",
    "        while line:\n",
    "            s = line.replace('\\n', '')\n",
    "            if s == 'COMPLEX-'+str(i):  # check if the current line is a new complex sentence\n",
    "                #print(s)\n",
    "                next_line = f.readline()\n",
    "                complex_sentence = next_line.replace('\\n', '')\n",
    "                j = 1 #to track the number of the simple sentence\n",
    "                while True:\n",
    "                    #print(next_line)\n",
    "                    if next_line.replace('\\n', '') == 'COMPLEX-'+str(i)+':MR-1:SIMPLE-'+str(j):  #check if the current line is defining simple sentences generated from the current complex sentence\n",
    "                        sentences = []\n",
    "                        next_line1 = f.readline()\n",
    "                        #k = 0  \n",
    "\n",
    "                        while not next_line1.startswith('COMPLEX-'+str(i)+':MR-1:SIMPLE-'+str(j)+':SPTYPE-'): \n",
    "                            #print(next_line1.replace('\\n', ''))\n",
    "                            sentences.append(next_line1.replace('\\n', ''))\n",
    "                           # k += 1\n",
    "                            next_line1 = f.readline()\n",
    "                        data = {                               #create new entry in the json file\n",
    "                                \"Sentences\": {\n",
    "                                \"Complex_sentence\": complex_sentence,\n",
    "                                 \"Simple_sentences\": sentences\n",
    "\n",
    "                            }\n",
    "                        }\n",
    "                        json_list.append(data)\n",
    "                        j += 1\n",
    "                    next_line = f.readline()\n",
    "                    #print(next_line)\n",
    "                    if next_line.replace('\\n', '') == 'COMPLEX-'+str(i+1) or next_line == '\\n' or next_line == '' or next_line == ' ':\n",
    "                        break\n",
    "\n",
    "                line = next_line\n",
    "                i += 1\n",
    "                if line == '' or line == '\\n' or line == ' ':\n",
    "                    break\n",
    "        #the file complete_data.json is opened in appending mode and if it does not exist it will be created\n",
    "        #make sure to delete its contains if you run this function multiple times otherwise it will just append new lines\n",
    "        with open('complete_data.json', 'a', encoding='utf-8') as f1:\n",
    "            json.dump(json_list, f1, ensure_ascii=False, indent=4)\n",
    "filename = 'output.txt'\n",
    "get_all_sentences(filename)"
   ]
  },
  {
   "cell_type": "code",
   "execution_count": 125,
   "metadata": {},
   "outputs": [],
   "source": [
    "with open('complete_data.json') as data_file:\n",
    "    data = json.loads(data_file.read())"
   ]
  },
  {
   "cell_type": "code",
   "execution_count": 130,
   "metadata": {},
   "outputs": [
    {
     "data": {
      "text/plain": [
       "1415177"
      ]
     },
     "execution_count": 130,
     "metadata": {},
     "output_type": "execute_result"
    }
   ],
   "source": [
    "len(data)"
   ]
  },
  {
   "cell_type": "code",
   "execution_count": null,
   "metadata": {},
   "outputs": [],
   "source": []
  }
 ],
 "metadata": {
  "kernelspec": {
   "display_name": "Python (myEnv)\n",
   "language": "python",
   "name": "myenv"
  },
  "language_info": {
   "codemirror_mode": {
    "name": "ipython",
    "version": 3
   },
   "file_extension": ".py",
   "mimetype": "text/x-python",
   "name": "python",
   "nbconvert_exporter": "python",
   "pygments_lexer": "ipython3",
   "version": "3.7.4"
  }
 },
 "nbformat": 4,
 "nbformat_minor": 4
}
